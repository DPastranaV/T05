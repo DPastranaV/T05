{
 "cells": [
  {
   "cell_type": "markdown",
   "metadata": {},
   "source": [
    "# TAREA"
   ]
  },
  {
   "cell_type": "markdown",
   "metadata": {},
   "source": [
    "## Integración Montecarlo"
   ]
  },
  {
   "cell_type": "markdown",
   "metadata": {},
   "source": [
    "1. Realizar las siguientes integrales. Poner los resultados en una tabla cuyas filas correspondan a la cantidad de términos utilizados en la aproximación (usar 10, 100, 1000, 10000 y 100000 términos) y cuyas columnas correspondan a las funciones.\n",
    "    + $\\int_{1}^{3} e^{x}\\log(x)\\text{d}x$.\n",
    "    + $\\int_1^3 \\sin(x)\\ln(x) \\text{d}x$"
   ]
  },
  {
   "cell_type": "code",
   "execution_count": 1,
   "metadata": {},
   "outputs": [],
   "source": [
    "import numpy as np\n",
    "import pandas as pd"
   ]
  },
  {
   "cell_type": "code",
   "execution_count": 28,
   "metadata": {},
   "outputs": [],
   "source": [
    "def f1(x) : \n",
    "    return np.exp(x) * np.log10(x)\n",
    "\n",
    "N = 10000\n",
    "np.random\n",
    "u = np.random.uniform(1, 3, N)\n",
    "fx = np.mean(f(u))*(3 - 1)"
   ]
  },
  {
   "cell_type": "code",
   "execution_count": 29,
   "metadata": {},
   "outputs": [],
   "source": [
    "def f2(y) : \n",
    "    return np.sin(y) * np.log(y)\n",
    "\n",
    "N = 10000\n",
    "np.random\n",
    "u = np.random.uniform(1, 3, N)\n",
    "fy = np.mean(f(u))*(3 - 1)"
   ]
  },
  {
   "cell_type": "code",
   "execution_count": 30,
   "metadata": {},
   "outputs": [
    {
     "data": {
      "text/html": [
       "<div>\n",
       "<style scoped>\n",
       "    .dataframe tbody tr th:only-of-type {\n",
       "        vertical-align: middle;\n",
       "    }\n",
       "\n",
       "    .dataframe tbody tr th {\n",
       "        vertical-align: top;\n",
       "    }\n",
       "\n",
       "    .dataframe thead th {\n",
       "        text-align: right;\n",
       "    }\n",
       "</style>\n",
       "<table border=\"1\" class=\"dataframe\">\n",
       "  <thead>\n",
       "    <tr style=\"text-align: right;\">\n",
       "      <th></th>\n",
       "      <th>f(x)</th>\n",
       "      <th>f(y)</th>\n",
       "    </tr>\n",
       "  </thead>\n",
       "  <tbody>\n",
       "    <tr>\n",
       "      <th>10.0</th>\n",
       "      <td>NaN</td>\n",
       "      <td>NaN</td>\n",
       "    </tr>\n",
       "    <tr>\n",
       "      <th>100.0</th>\n",
       "      <td>NaN</td>\n",
       "      <td>NaN</td>\n",
       "    </tr>\n",
       "    <tr>\n",
       "      <th>1000.0</th>\n",
       "      <td>NaN</td>\n",
       "      <td>NaN</td>\n",
       "    </tr>\n",
       "    <tr>\n",
       "      <th>10000.0</th>\n",
       "      <td>NaN</td>\n",
       "      <td>NaN</td>\n",
       "    </tr>\n",
       "    <tr>\n",
       "      <th>100000.0</th>\n",
       "      <td>NaN</td>\n",
       "      <td>NaN</td>\n",
       "    </tr>\n",
       "  </tbody>\n",
       "</table>\n",
       "</div>"
      ],
      "text/plain": [
       "         f(x) f(y)\n",
       "10.0      NaN  NaN\n",
       "100.0     NaN  NaN\n",
       "1000.0    NaN  NaN\n",
       "10000.0   NaN  NaN\n",
       "100000.0  NaN  NaN"
      ]
     },
     "execution_count": 30,
     "metadata": {},
     "output_type": "execute_result"
    }
   ],
   "source": [
    "N = np.logspace(1, 5, 5)\n",
    "tabla = pd.DataFrame(columns=[\"f(x)\", \"f(y)\"], index = N)\n",
    "tabla"
   ]
  },
  {
   "cell_type": "code",
   "execution_count": 31,
   "metadata": {},
   "outputs": [
    {
     "data": {
      "text/plain": [
       "array([1.e+01, 1.e+02, 1.e+03, 1.e+04, 1.e+05])"
      ]
     },
     "execution_count": 31,
     "metadata": {},
     "output_type": "execute_result"
    }
   ],
   "source": [
    "def montecarlo(f, N, a, b):\n",
    "    u = np.random.uniform(a, b, N)\n",
    "    return np.mean(f(u))*(b - a)\n",
    "N"
   ]
  },
  {
   "cell_type": "code",
   "execution_count": 32,
   "metadata": {},
   "outputs": [
    {
     "data": {
      "text/html": [
       "<div>\n",
       "<style scoped>\n",
       "    .dataframe tbody tr th:only-of-type {\n",
       "        vertical-align: middle;\n",
       "    }\n",
       "\n",
       "    .dataframe tbody tr th {\n",
       "        vertical-align: top;\n",
       "    }\n",
       "\n",
       "    .dataframe thead th {\n",
       "        text-align: right;\n",
       "    }\n",
       "</style>\n",
       "<table border=\"1\" class=\"dataframe\">\n",
       "  <thead>\n",
       "    <tr style=\"text-align: right;\">\n",
       "      <th></th>\n",
       "      <th>f(x)</th>\n",
       "      <th>f(y)</th>\n",
       "    </tr>\n",
       "  </thead>\n",
       "  <tbody>\n",
       "    <tr>\n",
       "      <th>10.0</th>\n",
       "      <td>7.48956</td>\n",
       "      <td>1.113866</td>\n",
       "    </tr>\n",
       "    <tr>\n",
       "      <th>100.0</th>\n",
       "      <td>5.552427</td>\n",
       "      <td>0.894583</td>\n",
       "    </tr>\n",
       "    <tr>\n",
       "      <th>1000.0</th>\n",
       "      <td>5.847486</td>\n",
       "      <td>0.862001</td>\n",
       "    </tr>\n",
       "    <tr>\n",
       "      <th>10000.0</th>\n",
       "      <td>6.137654</td>\n",
       "      <td>0.86812</td>\n",
       "    </tr>\n",
       "    <tr>\n",
       "      <th>100000.0</th>\n",
       "      <td>6.103135</td>\n",
       "      <td>0.872106</td>\n",
       "    </tr>\n",
       "  </tbody>\n",
       "</table>\n",
       "</div>"
      ],
      "text/plain": [
       "              f(x)      f(y)\n",
       "10.0       7.48956  1.113866\n",
       "100.0     5.552427  0.894583\n",
       "1000.0    5.847486  0.862001\n",
       "10000.0   6.137654   0.86812\n",
       "100000.0  6.103135  0.872106"
      ]
     },
     "execution_count": 32,
     "metadata": {},
     "output_type": "execute_result"
    }
   ],
   "source": [
    "a = 1\n",
    "b = 3\n",
    "\n",
    "for i in N:\n",
    "    fx = montecarlo(f1, int(i), a, b)\n",
    "    fy = montecarlo(f2, int(i), a, b)\n",
    "    tabla.loc[i, \"f(x)\"] = fx\n",
    "    tabla.loc[i, \"f(y)\"] = fy\n",
    "tabla"
   ]
  },
  {
   "cell_type": "markdown",
   "metadata": {},
   "source": [
    "2. Aproximar el área de la región descrita por\n",
    "\n",
    "$$x^2+2y^2\\leq-2x+8y-7$$\n",
    "\n",
    "Poner los resultados en una tabla cuyas filas correspondan a la cantidad de términos utilizados en la aproximación (usar 10, 100, 1000, 10000 y 100000 términos) y en las columnas el valor de aproximación y el error relativo.\n",
    "\n",
    "Definir unos límites adecuados $a_1$, $b_1$, $a_2$ y $b_2$, para la región $R=\\left[a_1,b_1\\right]\\times\\left[a_2,b_2\\right]$"
   ]
  },
  {
   "cell_type": "markdown",
   "metadata": {},
   "source": [
    "**No pude resolver este problema, por lo que me apoyé de una IA**"
   ]
  },
  {
   "cell_type": "code",
   "execution_count": 21,
   "metadata": {},
   "outputs": [],
   "source": [
    "def area_region(n):\n",
    "    a1, b1 = -4, -1\n",
    "    a2, b2 = 3, 4\n",
    "    count = 0\n",
    "    for i in range(n):\n",
    "        x = np.random.uniform(a1, a2)\n",
    "        y = np.random.uniform(b1, b2)\n",
    "        if x**2 + 2*y**2 <= -2*x + 8*y - 7:\n",
    "            count += 1\n",
    "    area_rectangulo = (a2 - a1) * (b2 - b1)\n",
    "    area_elipse = area_rectangulo * count / n\n",
    "    return area_elipse"
   ]
  },
  {
   "cell_type": "code",
   "execution_count": 23,
   "metadata": {
    "scrolled": true
   },
   "outputs": [
    {
     "name": "stdout",
     "output_type": "stream",
     "text": [
      "n\tAproximación\tError relativo\n",
      "10\t3.5000\t\t0.7215\n",
      "100\t3.8500\t\t0.6936\n",
      "1000\t4.3050\t\t0.6574\n",
      "10000\t4.5255\t\t0.6399\n",
      "100000\t4.4629\t\t0.6449\n"
     ]
    }
   ],
   "source": [
    "n_values = [10, 100, 1000, 10000, 100000]\n",
    "\n",
    "print(\"n\\tAproximación\\tError relativo\")\n",
    "for n in n_values:\n",
    "    approx = area_region(n)\n",
    "    error = abs(approx - 12.5664) / 12.5664\n",
    "    print(f\"{n}\\t{approx:.4f}\\t\\t{error:.4f}\")"
   ]
  },
  {
   "cell_type": "markdown",
   "metadata": {},
   "source": [
    "**Esto fue lo que intenté hacer**"
   ]
  },
  {
   "cell_type": "code",
   "execution_count": 38,
   "metadata": {},
   "outputs": [
    {
     "data": {
      "text/plain": [
       "89.84209887183553"
      ]
     },
     "execution_count": 38,
     "metadata": {},
     "output_type": "execute_result"
    }
   ],
   "source": [
    "def f_1(x, y) : \n",
    "    return x**2 + 2*y**2\n",
    "\n",
    "N = 10000\n",
    "np.random\n",
    "u = np.random.uniform(-4, 3, N)\n",
    "v = np.random.uniform(-1, 4, N)\n",
    "f1 = np.mean(f(u, v))*(3 - (-4))\n",
    "f1"
   ]
  },
  {
   "cell_type": "code",
   "execution_count": 39,
   "metadata": {},
   "outputs": [
    {
     "data": {
      "text/plain": [
       "91.21020320725731"
      ]
     },
     "execution_count": 39,
     "metadata": {},
     "output_type": "execute_result"
    }
   ],
   "source": [
    "def f_2(x, y) : \n",
    "    return -2*x + 8*y - 7\n",
    "\n",
    "N = 10000\n",
    "np.random\n",
    "u = np.random.uniform(-4, 3, N)\n",
    "v = np.random.uniform(-1, 4, N)\n",
    "f2 = np.mean(f(u, v))*(3 - (-4))\n",
    "f2"
   ]
  },
  {
   "cell_type": "code",
   "execution_count": 35,
   "metadata": {},
   "outputs": [
    {
     "data": {
      "text/html": [
       "<div>\n",
       "<style scoped>\n",
       "    .dataframe tbody tr th:only-of-type {\n",
       "        vertical-align: middle;\n",
       "    }\n",
       "\n",
       "    .dataframe tbody tr th {\n",
       "        vertical-align: top;\n",
       "    }\n",
       "\n",
       "    .dataframe thead th {\n",
       "        text-align: right;\n",
       "    }\n",
       "</style>\n",
       "<table border=\"1\" class=\"dataframe\">\n",
       "  <thead>\n",
       "    <tr style=\"text-align: right;\">\n",
       "      <th></th>\n",
       "      <th>Aproximación</th>\n",
       "      <th>Error relativo</th>\n",
       "    </tr>\n",
       "  </thead>\n",
       "  <tbody>\n",
       "    <tr>\n",
       "      <th>10.0</th>\n",
       "      <td>NaN</td>\n",
       "      <td>NaN</td>\n",
       "    </tr>\n",
       "    <tr>\n",
       "      <th>100.0</th>\n",
       "      <td>NaN</td>\n",
       "      <td>NaN</td>\n",
       "    </tr>\n",
       "    <tr>\n",
       "      <th>1000.0</th>\n",
       "      <td>NaN</td>\n",
       "      <td>NaN</td>\n",
       "    </tr>\n",
       "    <tr>\n",
       "      <th>10000.0</th>\n",
       "      <td>NaN</td>\n",
       "      <td>NaN</td>\n",
       "    </tr>\n",
       "    <tr>\n",
       "      <th>100000.0</th>\n",
       "      <td>NaN</td>\n",
       "      <td>NaN</td>\n",
       "    </tr>\n",
       "  </tbody>\n",
       "</table>\n",
       "</div>"
      ],
      "text/plain": [
       "         Aproximación Error relativo\n",
       "10.0              NaN            NaN\n",
       "100.0             NaN            NaN\n",
       "1000.0            NaN            NaN\n",
       "10000.0           NaN            NaN\n",
       "100000.0          NaN            NaN"
      ]
     },
     "execution_count": 35,
     "metadata": {},
     "output_type": "execute_result"
    }
   ],
   "source": [
    "N = np.logspace(1, 5, 5)\n",
    "tabla = pd.DataFrame(columns=[\"Aproximación\", \"Error relativo\"], index = N)\n",
    "tabla"
   ]
  },
  {
   "cell_type": "code",
   "execution_count": 36,
   "metadata": {},
   "outputs": [
    {
     "data": {
      "text/plain": [
       "array([1.e+01, 1.e+02, 1.e+03, 1.e+04, 1.e+05])"
      ]
     },
     "execution_count": 36,
     "metadata": {},
     "output_type": "execute_result"
    }
   ],
   "source": [
    "def montecarlo(f, N, a, b):\n",
    "    u = np.random.uniform(a, b, N)\n",
    "    v = np.random.uniform(a, b, N)\n",
    "    return np.mean(f(u, v))*(b - a)\n",
    "N"
   ]
  },
  {
   "cell_type": "code",
   "execution_count": 42,
   "metadata": {},
   "outputs": [
    {
     "ename": "TypeError",
     "evalue": "'int' object is not iterable",
     "output_type": "error",
     "traceback": [
      "\u001b[1;31m---------------------------------------------------------------------------\u001b[0m",
      "\u001b[1;31mTypeError\u001b[0m                                 Traceback (most recent call last)",
      "\u001b[1;32m~\\AppData\\Local\\Temp\\ipykernel_3304\\4162289930.py\u001b[0m in \u001b[0;36m<module>\u001b[1;34m\u001b[0m\n\u001b[0;32m      2\u001b[0m \u001b[0mb\u001b[0m \u001b[1;33m=\u001b[0m \u001b[1;36m3\u001b[0m\u001b[1;33m\u001b[0m\u001b[1;33m\u001b[0m\u001b[0m\n\u001b[0;32m      3\u001b[0m \u001b[1;33m\u001b[0m\u001b[0m\n\u001b[1;32m----> 4\u001b[1;33m \u001b[1;32mfor\u001b[0m \u001b[0mi\u001b[0m \u001b[1;32min\u001b[0m \u001b[0mN\u001b[0m\u001b[1;33m:\u001b[0m\u001b[1;33m\u001b[0m\u001b[1;33m\u001b[0m\u001b[0m\n\u001b[0m\u001b[0;32m      5\u001b[0m     \u001b[0maprox\u001b[0m \u001b[1;33m=\u001b[0m \u001b[0mmontecarlo\u001b[0m\u001b[1;33m(\u001b[0m\u001b[0mf\u001b[0m\u001b[1;33m,\u001b[0m \u001b[0mint\u001b[0m\u001b[1;33m(\u001b[0m\u001b[0mi\u001b[0m\u001b[1;33m)\u001b[0m\u001b[1;33m,\u001b[0m \u001b[0ma\u001b[0m\u001b[1;33m,\u001b[0m \u001b[0mb\u001b[0m\u001b[1;33m)\u001b[0m\u001b[1;33m\u001b[0m\u001b[1;33m\u001b[0m\u001b[0m\n\u001b[0;32m      6\u001b[0m     \u001b[0mtabla\u001b[0m\u001b[1;33m.\u001b[0m\u001b[0mloc\u001b[0m\u001b[1;33m[\u001b[0m\u001b[0mi\u001b[0m\u001b[1;33m,\u001b[0m \u001b[1;34m\"Aproximación\"\u001b[0m\u001b[1;33m]\u001b[0m \u001b[1;33m=\u001b[0m \u001b[0maprox\u001b[0m\u001b[1;33m\u001b[0m\u001b[1;33m\u001b[0m\u001b[0m\n",
      "\u001b[1;31mTypeError\u001b[0m: 'int' object is not iterable"
     ]
    }
   ],
   "source": [
    "a = -4\n",
    "b = 3\n",
    "\n",
    "for i in N:\n",
    "    aprox = montecarlo(f, int(i), a, b)\n",
    "    tabla.loc[i, \"Aproximación\"] = aprox\n",
    "    tabla.loc[i, \"Error\"] = (89.8420988) - aprox\n",
    "tabla"
   ]
  },
  {
   "cell_type": "code",
   "execution_count": null,
   "metadata": {},
   "outputs": [],
   "source": []
  },
  {
   "cell_type": "markdown",
   "metadata": {},
   "source": [
    "3. Describe 3 casos de uso de integración Montecarlo en tu ingeniería."
   ]
  },
  {
   "cell_type": "markdown",
   "metadata": {},
   "source": [
    "En la Ingeniería Financiera generalmente se utiliza la integración Montecarlo para estimar valores esperados de funciones que dependen de una ovarias variables aleatorias. La integración Montecarlo se puede ver en:"
   ]
  },
  {
   "cell_type": "markdown",
   "metadata": {},
   "source": [
    "1. Modelos de cartera de inversión: e utiliza para modelar el comportamiento de una cartera de inversión. La variable aleatoria es el rendimiento de los diferentes activos en la cartera, y la función a evaluar es el rendimiento total de la cartera. Se calcula el valor esperado del rendimiento total de la cartera."
   ]
  },
  {
   "cell_type": "markdown",
   "metadata": {},
   "source": [
    "2. Análisis de riesgo de crédito: se utiliza para evaluar el riesgo de crédito asociado con una cartera de préstamos. En este caso, la variable aleatoria es la tasa de incumplimiento de los prestatarios, y la función a evaluar es el riesgo de pérdida en caso de que ocurra un incumplimiento. Se calcula el valor esperado del riesgo de pérdida."
   ]
  },
  {
   "cell_type": "markdown",
   "metadata": {},
   "source": [
    "3. Valoración de opciones: se utiliza para valorar opciones financieras. La variable aleatoria es el precio del subyacente, y la función a evaluar es el pago de la opción en caso de que se ejerza. Se calcula el valor esperado del pago de la opción."
   ]
  },
  {
   "cell_type": "code",
   "execution_count": null,
   "metadata": {},
   "outputs": [],
   "source": []
  }
 ],
 "metadata": {
  "kernelspec": {
   "display_name": "Python 3 (ipykernel)",
   "language": "python",
   "name": "python3"
  },
  "language_info": {
   "codemirror_mode": {
    "name": "ipython",
    "version": 3
   },
   "file_extension": ".py",
   "mimetype": "text/x-python",
   "name": "python",
   "nbconvert_exporter": "python",
   "pygments_lexer": "ipython3",
   "version": "3.9.13"
  }
 },
 "nbformat": 4,
 "nbformat_minor": 2
}
